{
 "cells": [
  {
   "cell_type": "markdown",
   "id": "24e864e6",
   "metadata": {},
   "source": [
    "# UDACITY: Endpoint Demo"
   ]
  },
  {
   "cell_type": "code",
   "execution_count": 1,
   "id": "6757607e",
   "metadata": {},
   "outputs": [
    {
     "name": "stdout",
     "output_type": "stream",
     "text": [
      "-----!"
     ]
    }
   ],
   "source": [
    "from sagemaker import get_execution_role\n",
    "from sagemaker.model import Model\n",
    "from sagemaker import image_uris\n",
    "\n",
    "role = get_execution_role()\n",
    "\n",
    "# You'll need to confirm that this region is located in the same place as the S3 uri of your training job.\n",
    "# (Check the upper right-hand side of the console.)\n",
    "\n",
    "image_uri = image_uris.retrieve(framework='xgboost',region='us-east-1', version='latest')\n",
    "\n",
    "# You'll need to replace this model data with the output S3 uri of your training job. \n",
    "\n",
    "model_data = \"s3://udacity-ml-nd/boston-xgboost-HL/output-demo-console/xgboost-2023-01-06-00-03-01-570/output/model.tar.gz\"\n",
    "\n",
    "model = Model(image_uri=image_uri, model_data=model_data, role=role)\n",
    "\n",
    "predictor = model.deploy(initial_instance_count=1, instance_type=\"ml.m5.large\")\n"
   ]
  }
 ],
 "metadata": {
  "kernelspec": {
   "display_name": "conda_python3",
   "language": "python",
   "name": "conda_python3"
  },
  "language_info": {
   "codemirror_mode": {
    "name": "ipython",
    "version": 3
   },
   "file_extension": ".py",
   "mimetype": "text/x-python",
   "name": "python",
   "nbconvert_exporter": "python",
   "pygments_lexer": "ipython3",
   "version": "3.6.13"
  }
 },
 "nbformat": 4,
 "nbformat_minor": 5
}
