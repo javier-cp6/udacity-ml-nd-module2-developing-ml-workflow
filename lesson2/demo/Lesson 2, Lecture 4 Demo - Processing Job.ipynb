{
 "cells": [
  {
   "cell_type": "markdown",
   "id": "0334ba11",
   "metadata": {},
   "source": [
    "# UDACITY: Processing Job Demo"
   ]
  },
  {
   "cell_type": "code",
   "execution_count": 1,
   "id": "12a90cf5",
   "metadata": {},
   "outputs": [
    {
     "name": "stdout",
     "output_type": "stream",
     "text": [
      "Writing xgboost_process_script.py\n"
     ]
    }
   ],
   "source": [
    "%%writefile xgboost_process_script.py\n",
    "\n",
    "# Execute this cell first to write this script to your local directory. \n",
    "\n",
    "import pandas\n",
    "\n",
    "# This method filters out the column at index 1, which is the crime data. \n",
    "\n",
    "def filter_crime_data(input_data_path):\n",
    "    with open(input_data_path, 'r') as f:\n",
    "        df = pandas.read_csv(f)\n",
    "    df.drop(df.columns[[1]], axis=1)\n",
    "    return df\n",
    "\n",
    "# The main method takes in data at '/opt/ml/processing/input/data/train.csv' \n",
    "# and outputs it as a csv to '/opt/ml/processing/output/data_processed'\n",
    "\n",
    "if __name__ == \"__main__\":\n",
    "    filtered_data = filter_crime_data('/opt/ml/processing/input/data/train.csv')\n",
    "    filtered_data.to_csv('/opt/ml/processing/output/data_processed')\n",
    "\n"
   ]
  },
  {
   "cell_type": "code",
   "execution_count": 2,
   "id": "5e95bf8a",
   "metadata": {},
   "outputs": [
    {
     "name": "stdout",
     "output_type": "stream",
     "text": [
      "\n",
      "Job Name:  sagemaker-scikit-learn-2023-01-10-15-44-43-861\n",
      "Inputs:  [{'InputName': 'input-1', 'AppManaged': False, 'S3Input': {'S3Uri': 's3://udacity-ml-nd/boston-xgboost-HL/train.csv', 'LocalPath': '/opt/ml/processing/input/data/', 'S3DataType': 'S3Prefix', 'S3InputMode': 'File', 'S3DataDistributionType': 'FullyReplicated', 'S3CompressionType': 'None'}}, {'InputName': 'code', 'AppManaged': False, 'S3Input': {'S3Uri': 's3://sagemaker-us-east-1-167257913878/sagemaker-scikit-learn-2023-01-10-15-44-43-861/input/code/xgboost_process_script.py', 'LocalPath': '/opt/ml/processing/input/code', 'S3DataType': 'S3Prefix', 'S3InputMode': 'File', 'S3DataDistributionType': 'FullyReplicated', 'S3CompressionType': 'None'}}]\n",
      "Outputs:  [{'OutputName': 'output-1', 'AppManaged': False, 'S3Output': {'S3Uri': 's3://sagemaker-us-east-1-167257913878/sagemaker-scikit-learn-2023-01-10-15-44-43-861/output/output-1', 'LocalPath': '/opt/ml/processing/output', 'S3UploadMode': 'EndOfJob'}}]\n",
      "..............................\n",
      ".."
     ]
    }
   ],
   "source": [
    "import boto3\n",
    "\n",
    "from sagemaker import get_execution_role\n",
    "from sagemaker.sklearn.processing import SKLearnProcessor\n",
    "from sagemaker.processing import ProcessingInput, ProcessingOutput\n",
    "\n",
    "role = get_execution_role()\n",
    "\n",
    "sklearn_processor = SKLearnProcessor(framework_version='0.20.0',\n",
    "                                     role=role,\n",
    "                                     instance_type='ml.m5.large',\n",
    "                                     instance_count=1)\n",
    "\n",
    "\n",
    "# You will need to replace the 'source' code with the location of the dataset you want to process. \n",
    "\n",
    "sklearn_processor.run(code='xgboost_process_script.py',\n",
    "                        inputs=[ProcessingInput(\n",
    "                        source='s3://udacity-ml-nd/boston-xgboost-HL/train.csv',\n",
    "                        destination='/opt/ml/processing/input/data/')],\n",
    "                      outputs=[ProcessingOutput(source='/opt/ml/processing/output')]\n",
    "                     )"
   ]
  }
 ],
 "metadata": {
  "kernelspec": {
   "display_name": "conda_python3",
   "language": "python",
   "name": "conda_python3"
  },
  "language_info": {
   "codemirror_mode": {
    "name": "ipython",
    "version": 3
   },
   "file_extension": ".py",
   "mimetype": "text/x-python",
   "name": "python",
   "nbconvert_exporter": "python",
   "pygments_lexer": "ipython3",
   "version": "3.6.13"
  }
 },
 "nbformat": 4,
 "nbformat_minor": 5
}
