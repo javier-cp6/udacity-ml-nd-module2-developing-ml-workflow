{
 "cells": [
  {
   "cell_type": "markdown",
   "id": "589bd93b",
   "metadata": {},
   "source": [
    "# UDACITY Designing Your First Workflow - Tying it All Together"
   ]
  },
  {
   "cell_type": "markdown",
   "id": "916dd282",
   "metadata": {},
   "source": [
    "AWS is comprised of many services, and one of the main skills you'll develop as an ML Engineer working in AWS is in chaining these services together to accomplish specific data engineering goals. With Lambda, you've learned how to launch serverless jobs, and with Step Functions, you've learned how to create a workflow that chains jobs together. Now, you'll learn how to launch a Step Function using a Lambda job. "
   ]
  },
  {
   "cell_type": "markdown",
   "id": "c039b0e8",
   "metadata": {},
   "source": [
    "Before starting this, it's important to highlight that this is not the only way to accomplish something like this. Multiple services integrate with Step Functions, and so it follows that there are multiple ways to launch Step Functions. These services, among others, include API Gateway, EventBridge, and even other Step Functions. "
   ]
  },
  {
   "cell_type": "markdown",
   "id": "150e3766",
   "metadata": {},
   "source": [
    "Your task is to create a new lambda function that will launch the state machine you created in the **last exercise**. You'll then launch this lambda function from the command line. To find the definition of the step function you've made, click into the step function and look for the definition under the 'Definition' tab. "
   ]
  },
  {
   "cell_type": "markdown",
   "id": "1b9b869d",
   "metadata": {},
   "source": [
    "First, create a new Lambda role. Attach to this role the StepFunctionsFullAccess policy. Then create a new lambda function under the default template, and attach this new role to it. Use the starter code below to help you modify the lambda handler to accomplish your task. "
   ]
  },
  {
   "cell_type": "markdown",
   "id": "8e26fa32",
   "metadata": {},
   "source": [
    "As Step Function cannot execute more than once with the same name, you must update the definition with a new name. You can find the existing definition of a Step Function in the AWS Console under 'Step Functions'. In the lambda function code below, update the 'definition' with the step function definition from your last exercise, with the only difference being the, step fucntion name, processing-job name and the training-job name. "
   ]
  },
  {
   "cell_type": "markdown",
   "id": "0b1383f8",
   "metadata": {},
   "source": [
    "## Exercise: Create the Lambda Function"
   ]
  },
  {
   "cell_type": "code",
   "execution_count": null,
   "id": "170bde12",
   "metadata": {},
   "outputs": [],
   "source": [
    "import json\n",
    "import boto3\n",
    "import time\n",
    "\n",
    "client = boto3.client('stepfunctions')\n",
    "\n",
    "# todo, copy the definition from the last exercise and paste it below. \n",
    "# Also change the names of step function, training job and processing job. \n",
    "definition = \"\"\"{\n",
    "  \"StartAt\": \"SageMaker pre-processing step l3e4\",\n",
    "  \"States\": {\n",
    "    \"SageMaker pre-processing step l3e4\": {\n",
    "      \"Resource\": \"arn:aws:states:::sagemaker:createProcessingJob.sync\",\n",
    "      \"Parameters\": {\n",
    "        \"ProcessingJobName\": \"preprocessing-l3e4\",\n",
    "        \"ProcessingInputs\": [\n",
    "          {\n",
    "            \"InputName\": \"input-1\",\n",
    "            \"AppManaged\": false,\n",
    "            \"S3Input\": {\n",
    "              \"S3Uri\": \"s3://sagemaker-us-east-1-167257913878/lesson3/exercise1_lambda/reviews_Musical_Instruments_5.json.zip\",\n",
    "              \"LocalPath\": \"/opt/ml/processing/input\",\n",
    "              \"S3DataType\": \"S3Prefix\",\n",
    "              \"S3InputMode\": \"File\",\n",
    "              \"S3DataDistributionType\": \"FullyReplicated\",\n",
    "              \"S3CompressionType\": \"None\"\n",
    "            }\n",
    "          },\n",
    "          {\n",
    "            \"InputName\": \"code\",\n",
    "            \"AppManaged\": false,\n",
    "            \"S3Input\": {\n",
    "              \"S3Uri\": \"s3://sagemaker-us-east-1-167257913878/lesson3/exercise3_workflow/HelloBlazePreprocess.py\",\n",
    "              \"LocalPath\": \"/opt/ml/processing/input/code\",\n",
    "              \"S3DataType\": \"S3Prefix\",\n",
    "              \"S3InputMode\": \"File\",\n",
    "              \"S3DataDistributionType\": \"FullyReplicated\",\n",
    "              \"S3CompressionType\": \"None\"\n",
    "            }\n",
    "          }\n",
    "        ],\n",
    "        \"ProcessingOutputConfig\": {\n",
    "          \"Outputs\": [\n",
    "            {\n",
    "              \"OutputName\": \"train_data\",\n",
    "              \"AppManaged\": false,\n",
    "              \"S3Output\": {\n",
    "                \"S3Uri\": \"s3://sagemaker-us-east-1-167257913878/lesson3/exercise4_workflow/hello_blaze_train_scikit\",\n",
    "                \"LocalPath\": \"/opt/ml/processing/output/train\",\n",
    "                \"S3UploadMode\": \"EndOfJob\"\n",
    "              }\n",
    "            },\n",
    "            {\n",
    "              \"OutputName\": \"test_data\",\n",
    "              \"AppManaged\": false,\n",
    "              \"S3Output\": {\n",
    "                \"S3Uri\": \"s3://sagemaker-us-east-1-167257913878/lesson3/exercise4_workflow/hello_blaze_test_scikit\",\n",
    "                \"LocalPath\": \"/opt/ml/processing/output/test\",\n",
    "                \"S3UploadMode\": \"EndOfJob\"\n",
    "              }\n",
    "            }\n",
    "          ]\n",
    "        },\n",
    "        \"AppSpecification\": {\n",
    "          \"ImageUri\": \"683313688378.dkr.ecr.us-east-1.amazonaws.com/sagemaker-scikit-learn:0.20.0-cpu-py3\",\n",
    "          \"ContainerEntrypoint\": [\n",
    "            \"python3\",\n",
    "            \"/opt/ml/processing/input/code/HelloBlazePreprocess.py\"\n",
    "          ]\n",
    "        },\n",
    "        \"RoleArn\": \"arn:aws:iam::167257913878:role/service-role/AmazonSageMaker-ExecutionRole-20230105T130430\",\n",
    "        \"ProcessingResources\": {\n",
    "          \"ClusterConfig\": {\n",
    "            \"InstanceCount\": 1,\n",
    "            \"InstanceType\": \"ml.m5.large\",\n",
    "            \"VolumeSizeInGB\": 30\n",
    "          }\n",
    "        }\n",
    "      },\n",
    "      \"Type\": \"Task\",\n",
    "      \"Next\": \"SageMaker Training Step\"\n",
    "    },\n",
    "    \"SageMaker Training Step\": {\n",
    "      \"Resource\": \"arn:aws:states:::sagemaker:createTrainingJob.sync\",\n",
    "      \"Parameters\": {\n",
    "        \"AlgorithmSpecification\": {\n",
    "          \"TrainingImage\": \"811284229777.dkr.ecr.us-east-1.amazonaws.com/blazingtext:1\",\n",
    "          \"TrainingInputMode\": \"File\"\n",
    "        },\n",
    "        \"OutputDataConfig\": {\n",
    "          \"S3OutputPath\": \"s3://sagemaker-us-east-1-167257913878/lesson3/exercise4_workflow/output\"\n",
    "        },\n",
    "        \"StoppingCondition\": {\n",
    "          \"MaxRuntimeInSeconds\": 360000\n",
    "        },\n",
    "        \"ResourceConfig\": {\n",
    "          \"VolumeSizeInGB\": 30,\n",
    "          \"InstanceCount\": 1,\n",
    "          \"InstanceType\": \"ml.m5.large\"\n",
    "        },\n",
    "        \"RoleArn\": \"arn:aws:iam::167257913878:role/service-role/AmazonSageMaker-ExecutionRole-20230105T130430\",\n",
    "        \"InputDataConfig\": [\n",
    "          {\n",
    "            \"DataSource\": {\n",
    "              \"S3DataSource\": {\n",
    "                \"S3DataType\": \"S3Prefix\",\n",
    "                \"S3Uri\": \"s3://sagemaker-us-east-1-167257913878/lesson3/exercise4_workflow/hello_blaze_train_scikit\",\n",
    "                \"S3DataDistributionType\": \"FullyReplicated\"\n",
    "              }\n",
    "            },\n",
    "            \"ContentType\": \"text/plain\",\n",
    "            \"ChannelName\": \"train\"\n",
    "          },\n",
    "          {\n",
    "            \"DataSource\": {\n",
    "              \"S3DataSource\": {\n",
    "                \"S3DataType\": \"S3Prefix\",\n",
    "                \"S3Uri\": \"s3://sagemaker-us-east-1-167257913878/lesson3/exercise4_workflow/hello_blaze_test_scikit\",\n",
    "                \"S3DataDistributionType\": \"FullyReplicated\"\n",
    "              }\n",
    "            },\n",
    "            \"ContentType\": \"text/plain\",\n",
    "            \"ChannelName\": \"validation\"\n",
    "          }\n",
    "        ],\n",
    "        \"HyperParameters\": {\n",
    "          \"mode\": \"supervised\"\n",
    "        },\n",
    "        \"TrainingJobName\": \"training-job-l3e4\",\n",
    "        \"DebugHookConfig\": {\n",
    "          \"S3OutputPath\": \"s3://sagemaker-us-east-1-167257913878/lesson3/exercise4_workflow/output\"\n",
    "        }\n",
    "      },\n",
    "      \"Type\": \"Task\",\n",
    "      \"End\": true\n",
    "    }\n",
    "  }\n",
    "}\"\"\"\n",
    "\n",
    "def lambda_handler(event, context):\n",
    "    #todo \n",
    "    client.update_state_machine(definition=definition, stateMachineArn='arn:aws:states:us-east-1:167257913878:stateMachine:Workflow-l3e3') \n",
    "    # Give AWS time to register the defintion\n",
    "    time.sleep(5)\n",
    "    #todo\n",
    "    client.start_execution(input='{}', name='Workflow-l3e4', stateMachineArn='arn:aws:states:us-east-1:167257913878:stateMachine:Workflow-l3e3') \n",
    "    \n",
    "    return {\n",
    "        'statusCode': 200,\n",
    "        'body': 'The step function has successfully launched!'\n",
    "    }\n"
   ]
  },
  {
   "cell_type": "markdown",
   "id": "4d95821f",
   "metadata": {},
   "source": [
    "## Exercise: Launch the Lambda Function\n"
   ]
  },
  {
   "cell_type": "markdown",
   "id": "304d6ddc",
   "metadata": {},
   "source": [
    "Launch the lambda function and confirm the step function is created successfully."
   ]
  },
  {
   "cell_type": "code",
   "execution_count": 7,
   "id": "3844412a",
   "metadata": {},
   "outputs": [
    {
     "name": "stdout",
     "output_type": "stream",
     "text": [
      "{\r\n",
      "    \"StatusCode\": 200,\r\n",
      "    \"ExecutedVersion\": \"$LATEST\"\r\n",
      "}\r\n"
     ]
    }
   ],
   "source": [
    "!aws lambda invoke \\\n",
    "              --function-name Workflow-l3e4 \\\n",
    "              --payload '{ \"key\": \"test\" }' \\\n",
    "              response.json"
   ]
  },
  {
   "cell_type": "markdown",
   "id": "bdc22075",
   "metadata": {},
   "source": [
    "## Conceptual Exercise: What are next steps? "
   ]
  },
  {
   "cell_type": "markdown",
   "id": "a709342e",
   "metadata": {},
   "source": [
    "Right now, the Step Function that we made in the prior exercise has a hard-coded location of the dataset we input, as well as all of the locations of the intermediary steps. What are ways that you could modify the Step Function to make it more generalizable? If you could input an S3 location, how could you integrate it with Lambda so that it could asychronously be called? "
   ]
  },
  {
   "cell_type": "code",
   "execution_count": 10,
   "id": "84147e33",
   "metadata": {},
   "outputs": [],
   "source": [
    "#We can use S3 as a trigger of the Lambda function in order to call it asynchronously."
   ]
  }
 ],
 "metadata": {
  "kernelspec": {
   "display_name": "conda_python3",
   "language": "python",
   "name": "conda_python3"
  },
  "language_info": {
   "codemirror_mode": {
    "name": "ipython",
    "version": 3
   },
   "file_extension": ".py",
   "mimetype": "text/x-python",
   "name": "python",
   "nbconvert_exporter": "python",
   "pygments_lexer": "ipython3",
   "version": "3.6.13"
  }
 },
 "nbformat": 4,
 "nbformat_minor": 5
}
