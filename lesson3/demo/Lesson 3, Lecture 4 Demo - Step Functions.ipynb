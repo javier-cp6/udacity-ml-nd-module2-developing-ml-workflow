{
 "cells": [
  {
   "cell_type": "markdown",
   "id": "2917d0fd",
   "metadata": {},
   "source": [
    "# UDACITY Demo - Step Functions"
   ]
  },
  {
   "cell_type": "code",
   "execution_count": 5,
   "id": "950e7f4c",
   "metadata": {},
   "outputs": [],
   "source": [
    "import boto3\n",
    "from sagemaker import get_execution_role\n",
    "\n",
    "client = boto3.client('stepfunctions')\n",
    "\n",
    "# Definitions are unweildly and also not valid python objects. Consider also using the Step interface\n",
    "# for the services you wish to invoke, or just constructing a Step Function through the UI \n",
    "# and pasting the definition that is automatically generated. \n",
    "\n",
    "definition = \"\"\"{\n",
    "  \"Comment\": \"A Hello World example of the Amazon States Language.\",\n",
    "  \"StartAt\": \"Lambda Invoke (First)\", \n",
    "  \"States\": {\n",
    "    \"Lambda Invoke (First)\": {\n",
    "      \"Type\": \"Task\",\n",
    "      \"Resource\": \"arn:aws:states:::lambda:invoke\",\n",
    "      \"OutputPath\": \"$.Payload\",\n",
    "      \"Parameters\": {\n",
    "        \"Payload.$\": \"$\",\n",
    "        \"FunctionName\": \"arn:aws:lambda:us-east-1:167257913878:function:lesson3-demo:$LATEST\"\n",
    "      },\n",
    "      \"Retry\": [\n",
    "        {\n",
    "          \"ErrorEquals\": [\n",
    "            \"Lambda.ServiceException\",\n",
    "            \"Lambda.AWSLambdaException\",\n",
    "            \"Lambda.SdkClientException\"\n",
    "          ],\n",
    "          \"IntervalSeconds\": 2,\n",
    "          \"MaxAttempts\": 6,\n",
    "          \"BackoffRate\": 2\n",
    "        }\n",
    "      ],\n",
    "      \"Next\": \"Lambda Invoke (Second)\"\n",
    "    },\n",
    "    \"Lambda Invoke (Second)\": {\n",
    "      \"Type\": \"Task\",\n",
    "      \"Resource\": \"arn:aws:states:::lambda:invoke\",\n",
    "      \"OutputPath\": \"$.Payload\",\n",
    "      \"Parameters\": {\n",
    "        \"Payload.$\": \"$\",\n",
    "        \"FunctionName\": \"arn:aws:lambda:us-east-1:167257913878:function:lesson3-demo:$LATEST\"\n",
    "      },\n",
    "      \"Retry\": [\n",
    "        {\n",
    "          \"ErrorEquals\": [\n",
    "            \"Lambda.ServiceException\",\n",
    "            \"Lambda.AWSLambdaException\",\n",
    "            \"Lambda.SdkClientException\"\n",
    "          ],\n",
    "          \"IntervalSeconds\": 2,\n",
    "          \"MaxAttempts\": 6,\n",
    "          \"BackoffRate\": 2\n",
    "        }\n",
    "      ],\n",
    "      \"End\": true\n",
    "    }\n",
    "  }\n",
    "}\n",
    "\"\"\""
   ]
  },
  {
   "cell_type": "code",
   "execution_count": 6,
   "id": "6054da7a",
   "metadata": {},
   "outputs": [
    {
     "name": "stdout",
     "output_type": "stream",
     "text": [
      "{'stateMachineArn': 'arn:aws:states:us-east-1:167257913878:stateMachine:boto3StateMachine3-demo2', 'creationDate': datetime.datetime(2023, 1, 14, 16, 19, 30, 251000, tzinfo=tzlocal()), 'ResponseMetadata': {'RequestId': '5a3c03f6-c47b-4b54-9a7a-0a59b924a964', 'HTTPStatusCode': 200, 'HTTPHeaders': {'x-amzn-requestid': '5a3c03f6-c47b-4b54-9a7a-0a59b924a964', 'date': 'Sat, 14 Jan 2023 16:19:30 GMT', 'content-type': 'application/x-amz-json-1.0', 'content-length': '129'}, 'RetryAttempts': 0}}\n"
     ]
    }
   ],
   "source": [
    "# Your SageMaker execution role needs to have both StepFunctions permission and IAM permission. This\n",
    "# is seperate from the role passed in through 'roleArn' (You need IAM permissions specifically because\n",
    "# you are handling other roles.) The roleArn that's passed into the state machine needs to have permissions\n",
    "# to the services it's invoking. In this case, these are Lambda permissions. \n",
    "\n",
    "response = client.create_state_machine(\n",
    "    name='boto3StateMachine3-demo2', # Names need to be unique. \n",
    "    definition=definition,\n",
    "    roleArn='arn:aws:iam::167257913878:role/service-role/StepFunctions-MyStateMachine-Demo3-role-6971a4bb',\n",
    "    type='STANDARD',\n",
    "    loggingConfiguration={\n",
    "        'level': 'OFF'\n",
    "    }\n",
    ")\n",
    "print(response)"
   ]
  },
  {
   "cell_type": "code",
   "execution_count": 7,
   "id": "dfbcee4f",
   "metadata": {},
   "outputs": [],
   "source": [
    "response = client.start_execution(\n",
    "    stateMachineArn='arn:aws:states:us-east-1:167257913878:stateMachine:boto3StateMachine3-demo2', # You can find this through the Console or through the 'response' object. \n",
    "    name='example1', # Execution names need to be unique within state machines. \n",
    "    input='{}' # Input needs to be at least empty brackets. \n",
    ")"
   ]
  },
  {
   "cell_type": "code",
   "execution_count": 8,
   "id": "9b10f7a7",
   "metadata": {},
   "outputs": [
    {
     "name": "stdout",
     "output_type": "stream",
     "text": [
      "{'executionArn': 'arn:aws:states:us-east-1:167257913878:execution:boto3StateMachine3-demo2:example1', 'startDate': datetime.datetime(2023, 1, 14, 16, 20, 10, 690000, tzinfo=tzlocal()), 'ResponseMetadata': {'RequestId': '9ebd097f-c7c6-4bac-afb9-26d8eb7ac677', 'HTTPStatusCode': 200, 'HTTPHeaders': {'x-amzn-requestid': '9ebd097f-c7c6-4bac-afb9-26d8eb7ac677', 'date': 'Sat, 14 Jan 2023 16:20:10 GMT', 'content-type': 'application/x-amz-json-1.0', 'content-length': '128'}, 'RetryAttempts': 0}}\n"
     ]
    }
   ],
   "source": [
    "print(response)"
   ]
  }
 ],
 "metadata": {
  "kernelspec": {
   "display_name": "conda_python3",
   "language": "python",
   "name": "conda_python3"
  },
  "language_info": {
   "codemirror_mode": {
    "name": "ipython",
    "version": 3
   },
   "file_extension": ".py",
   "mimetype": "text/x-python",
   "name": "python",
   "nbconvert_exporter": "python",
   "pygments_lexer": "ipython3",
   "version": "3.6.13"
  }
 },
 "nbformat": 4,
 "nbformat_minor": 5
}
