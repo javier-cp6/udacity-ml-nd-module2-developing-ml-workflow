{
 "cells": [
  {
   "cell_type": "markdown",
   "id": "004bbf77",
   "metadata": {},
   "source": [
    "# UDACITY Demo - Triggering Lambda"
   ]
  },
  {
   "cell_type": "code",
   "execution_count": 33,
   "id": "9f3d9f1e",
   "metadata": {},
   "outputs": [],
   "source": [
    "import boto3\n",
    "from sagemaker import get_execution_role ## The SageMaker role executing your notebook needs to have Lambda permissions. \n",
    "import json\n",
    "\n",
    "client = boto3.client('lambda')\n",
    "\n",
    "payload = {'key': 'value'}\n",
    "\n",
    "# json.dumps turns a JSON-object-like python object into a string, and .encode('utf-8') encodes the \n",
    "# the string so that it can be properly passed to the client. \n",
    "\n",
    "payload_bytes = json.dumps(payload).encode('utf-8')\n",
    "\n",
    "response = client.invoke(\n",
    "    FunctionName='botoLambdaFunction1',\n",
    "    InvocationType='RequestResponse',\n",
    "    Payload=payload_bytes\n",
    ")"
   ]
  },
  {
   "cell_type": "code",
   "execution_count": 34,
   "id": "af98c53a",
   "metadata": {},
   "outputs": [
    {
     "name": "stdout",
     "output_type": "stream",
     "text": [
      "{'ResponseMetadata': {'RequestId': '973db7f5-5597-4f19-bb71-442582f5494c', 'HTTPStatusCode': 200, 'HTTPHeaders': {'date': 'Wed, 02 Aug 2023 20:48:09 GMT', 'content-type': 'application/json', 'content-length': '53', 'connection': 'keep-alive', 'x-amzn-requestid': '973db7f5-5597-4f19-bb71-442582f5494c', 'x-amzn-remapped-content-length': '0', 'x-amz-executed-version': '$LATEST', 'x-amzn-trace-id': 'root=1-64cac109-2852aff37cf882b8445f5d38;sampled=0;lineage=25d5d40d:0'}, 'RetryAttempts': 0}, 'StatusCode': 200, 'ExecutedVersion': '$LATEST', 'Payload': <botocore.response.StreamingBody object at 0x7f9cd76d34f0>}\n"
     ]
    }
   ],
   "source": [
    "print(response)"
   ]
  },
  {
   "cell_type": "code",
   "execution_count": 35,
   "id": "18327c7c",
   "metadata": {},
   "outputs": [
    {
     "name": "stdout",
     "output_type": "stream",
     "text": [
      "Hello from Lambda!\n"
     ]
    }
   ],
   "source": [
    "response_payload = response['Payload'].read().decode('utf-8')\n",
    "\n",
    "# Parse the JSON response\n",
    "response_json = json.loads(response_payload)\n",
    "\n",
    "# Access the 'body' field within the response\n",
    "if 'body' in response_json:\n",
    "    body_json = json.loads(response_json['body'])\n",
    "    print(body_json)\n",
    "else:\n",
    "    print(\"Response payload is empty.\")"
   ]
  }
 ],
 "metadata": {
  "kernelspec": {
   "display_name": "conda_python3",
   "language": "python",
   "name": "conda_python3"
  },
  "language_info": {
   "codemirror_mode": {
    "name": "ipython",
    "version": 3
   },
   "file_extension": ".py",
   "mimetype": "text/x-python",
   "name": "python",
   "nbconvert_exporter": "python",
   "pygments_lexer": "ipython3",
   "version": "3.10.10"
  }
 },
 "nbformat": 4,
 "nbformat_minor": 5
}
