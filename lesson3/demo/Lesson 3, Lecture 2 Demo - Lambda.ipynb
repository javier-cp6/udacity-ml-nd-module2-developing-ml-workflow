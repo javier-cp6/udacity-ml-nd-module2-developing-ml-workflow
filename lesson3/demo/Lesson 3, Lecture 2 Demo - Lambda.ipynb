{
 "cells": [
  {
   "cell_type": "markdown",
   "id": "b40fa9f5",
   "metadata": {},
   "source": [
    "# UDACITY Demo - Lambda"
   ]
  },
  {
   "cell_type": "code",
   "execution_count": 1,
   "id": "fd5a9baa",
   "metadata": {},
   "outputs": [
    {
     "name": "stdout",
     "output_type": "stream",
     "text": [
      "Overwriting lambda_function.py\n"
     ]
    }
   ],
   "source": [
    "%%writefile lambda_function.py\n",
    "\n",
    "# This cell will write the function to your local machine. Note the name of the file and the name of the function. \n",
    "# Compare this to the 'Handler' parameter. \n",
    "\n",
    "import json\n",
    "\n",
    "def lambda_handler(event, context):\n",
    "    return {\n",
    "        'statusCode': 200,\n",
    "        'body': json.dumps('Hello from Lambda!')\n",
    "    }\n"
   ]
  },
  {
   "cell_type": "code",
   "execution_count": 2,
   "id": "7a6d6724",
   "metadata": {},
   "outputs": [
    {
     "name": "stderr",
     "output_type": "stream",
     "text": [
      "/home/ec2-user/anaconda3/envs/python3/lib/python3.6/site-packages/boto3/compat.py:88: PythonDeprecationWarning: Boto3 will no longer support Python 3.6 starting May 30, 2022. To continue receiving service updates, bug fixes, and security updates please upgrade to Python 3.7 or later. More information can be found here: https://aws.amazon.com/blogs/developer/python-support-policy-updates-for-aws-sdks-and-tools/\n",
      "  warnings.warn(warning, PythonDeprecationWarning)\n"
     ]
    }
   ],
   "source": [
    "import boto3\n",
    "from sagemaker import get_execution_role\n",
    "from zipfile import ZipFile\n",
    "\n",
    "# Your role will need full access to Lambda. The easiest way to add this is through the IAM console. \n",
    "\n",
    "role = get_execution_role()\n",
    "\n",
    "client = boto3.client('lambda')\n",
    "\n",
    "with ZipFile('code.zip', 'w') as f:\n",
    "    f.write('lambda_function.py')\n",
    "    \n",
    "# If submitting as a ZipFile, you need to insert raw data. \n",
    "    \n",
    "with open('code.zip', 'rb') as f:\n",
    "    b_code = f.read()\n",
    "\n",
    "    \n",
    "# You will need to submit an 'execution role' to Lambda. The easiest way to add this is through the IAM console. \n",
    "# You'll need the full ARN (not just the name. )\n",
    "# Lambda function names also need to be unique within your AWS account. \n",
    "\n",
    "response = client.create_function(\n",
    "    FunctionName='botoLambdaFunction1',\n",
    "    Runtime='python3.9',\n",
    "    Handler='lambda_function.lambda_handler',\n",
    "    Code={\n",
    "        'ZipFile': b_code,\n",
    "    },\n",
    "    Description='string',\n",
    "    Timeout=30,\n",
    "    MemorySize=1024,\n",
    "    Publish=True,\n",
    "    PackageType='Zip',\n",
    "    Role='arn:aws:iam::167257913878:role/lambda_full_access'\n",
    ")\n"
   ]
  }
 ],
 "metadata": {
  "kernelspec": {
   "display_name": "conda_python3",
   "language": "python",
   "name": "conda_python3"
  },
  "language_info": {
   "codemirror_mode": {
    "name": "ipython",
    "version": 3
   },
   "file_extension": ".py",
   "mimetype": "text/x-python",
   "name": "python",
   "nbconvert_exporter": "python",
   "pygments_lexer": "ipython3",
   "version": "3.6.13"
  }
 },
 "nbformat": 4,
 "nbformat_minor": 5
}
